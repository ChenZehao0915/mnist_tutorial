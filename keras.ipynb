{
 "cells": [
  {
   "cell_type": "markdown",
   "metadata": {},
   "source": [
    "# Keras Tutorial"
   ]
  },
  {
   "cell_type": "markdown",
   "metadata": {},
   "source": [
    "Keras is a popular deep learning framework and it's easy to get started."
   ]
  },
  {
   "cell_type": "code",
   "execution_count": 1,
   "metadata": {},
   "outputs": [
    {
     "name": "stderr",
     "output_type": "stream",
     "text": [
      "Using TensorFlow backend.\n"
     ]
    }
   ],
   "source": [
    "import keras\n",
    "from keras.datasets import mnist\n",
    "from keras.models import Sequential\n",
    "from keras.layers import Dense, Dropout, Flatten, Conv2D, MaxPooling2D\n",
    "from keras.optimizers import Adam\n",
    "\n",
    "BATCH_SIZE = 128\n",
    "NUM_CLASSES = 10\n",
    "NUM_EPOCHS = 10"
   ]
  },
  {
   "cell_type": "markdown",
   "metadata": {},
   "source": [
    "First, we read the mnist data and preprocess them."
   ]
  },
  {
   "cell_type": "code",
   "execution_count": 2,
   "metadata": {
    "scrolled": true
   },
   "outputs": [],
   "source": [
    "# download and load the data (split them between train and test sets)\n",
    "(x_train, y_train), (x_test, y_test) = mnist.load_data()\n",
    "\n",
    "# expand the channel dimension\n",
    "x_train = x_train.reshape(x_train.shape[0], 28, 28, 1)\n",
    "x_test = x_test.reshape(x_test.shape[0], 28, 28, 1)\n",
    "input_shape = (28, 28, 1)\n",
    "\n",
    "# make the value of pixels from [0, 255] to [0, 1] for further process\n",
    "x_train = x_train.astype('float32') / 255.\n",
    "x_test = x_test.astype('float32') / 255.\n",
    "\n",
    "# convert class vectors to binary class matrics\n",
    "y_train = keras.utils.to_categorical(y_train, NUM_CLASSES)\n",
    "y_test = keras.utils.to_categorical(y_test, NUM_CLASSES)\n"
   ]
  },
  {
   "cell_type": "markdown",
   "metadata": {},
   "source": [
    "Then, we define the model, object function and optimizer that we use to classify."
   ]
  },
  {
   "cell_type": "code",
   "execution_count": 6,
   "metadata": {},
   "outputs": [],
   "source": [
    "# define the model\n",
    "model = Sequential()\n",
    "#卷积层\n",
    "model.add(Conv2D(input_shape = input_shape, filters = 32, kernel_size = 3, strides = 1, padding = 'same', activation = 'relu'))\n",
    "#池化层\n",
    "model.add(MaxPooling2D(pool_size = 2, strides = 2, padding = 'same'))\n",
    "#卷积层\n",
    "model.add(Conv2D(filters = 64, kernel_size = 3,strides = 1, padding='same',activation = 'relu'))\n",
    "#池化层\n",
    "model.add(MaxPooling2D(pool_size = 2, strides = 2, padding = 'same'))\n",
    "#Flatten层\n",
    "model.add(Flatten())\n",
    "#全连接层\n",
    "model.add(Dense(1024,activation = 'relu'))\n",
    "#Dropout\n",
    "model.add(Dropout(0.4))\n",
    "#全连接层\n",
    "model.add(Dense(10,activation='softmax'))\n",
    "\n",
    "\n",
    "\n",
    "# define the object function, optimizer and metrics\n",
    "adam = Adam()\n",
    "model.compile(optimizer=adam, loss='categorical_crossentropy', metrics=['accuracy'])\n"
   ]
  },
  {
   "cell_type": "markdown",
   "metadata": {},
   "source": [
    "Next, we can start to train and evaluate!"
   ]
  },
  {
   "cell_type": "code",
   "execution_count": 7,
   "metadata": {},
   "outputs": [
    {
     "name": "stdout",
     "output_type": "stream",
     "text": [
      "Epoch 1/10\n",
      "60000/60000 [==============================] - 13s 215us/step - loss: 0.1559 - acc: 0.9519\n",
      "Epoch 2/10\n",
      "60000/60000 [==============================] - 12s 207us/step - loss: 0.0470 - acc: 0.9858\n",
      "Epoch 3/10\n",
      "60000/60000 [==============================] - 12s 207us/step - loss: 0.0315 - acc: 0.9900\n",
      "Epoch 4/10\n",
      "60000/60000 [==============================] - 12s 206us/step - loss: 0.0244 - acc: 0.9923\n",
      "Epoch 5/10\n",
      "60000/60000 [==============================] - 12s 202us/step - loss: 0.0189 - acc: 0.9942\n",
      "Epoch 6/10\n",
      "60000/60000 [==============================] - 13s 212us/step - loss: 0.0155 - acc: 0.9946\n",
      "Epoch 7/10\n",
      "60000/60000 [==============================] - 12s 208us/step - loss: 0.0137 - acc: 0.9955\n",
      "Epoch 8/10\n",
      "60000/60000 [==============================] - 13s 211us/step - loss: 0.0113 - acc: 0.9964\n",
      "Epoch 9/10\n",
      "60000/60000 [==============================] - 12s 207us/step - loss: 0.0107 - acc: 0.9965\n",
      "Epoch 10/10\n",
      "60000/60000 [==============================] - 13s 209us/step - loss: 0.0085 - acc: 0.9971\n",
      "60000/60000 [==============================] - 8s 131us/step\n",
      "10000/10000 [==============================] - 1s 126us/step\n",
      "Training loss: 0.0074, Training accuracy: 99.76%\n",
      "Testing loss: 0.0322, Testing accuracy: 99.03%\n"
     ]
    }
   ],
   "source": [
    "# train\n",
    "model.fit(x_train,y_train,epochs = NUM_EPOCHS, batch_size = BATCH_SIZE)\n",
    "\n",
    "# evaluate\n",
    "trainLoss,trainAccuracy = model.evaluate(x_train,y_train)\n",
    "testLoss,testAccuracy = model.evaluate(x_test,y_test)\n",
    "print('Training loss: %.4f, Training accuracy: %.2f%%' %(trainLoss,trainAccuracy * 100))\n",
    "print('Testing loss: %.4f, Testing accuracy: %.2f%%' %(testLoss,testAccuracy * 100))"
   ]
  },
  {
   "cell_type": "markdown",
   "metadata": {},
   "source": [
    "#### Q6:\n",
    "Please print the training and testing accuracy."
   ]
  }
 ],
 "metadata": {
  "kernelspec": {
   "display_name": "tensorflow",
   "language": "python",
   "name": "tensorflow"
  },
  "language_info": {
   "codemirror_mode": {
    "name": "ipython",
    "version": 3
   },
   "file_extension": ".py",
   "mimetype": "text/x-python",
   "name": "python",
   "nbconvert_exporter": "python",
   "pygments_lexer": "ipython3",
   "version": "3.6.8"
  }
 },
 "nbformat": 4,
 "nbformat_minor": 2
}
